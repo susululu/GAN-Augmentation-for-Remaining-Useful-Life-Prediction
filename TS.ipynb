{
 "cells": [
  {
   "cell_type": "code",
   "execution_count": 213,
   "metadata": {},
   "outputs": [
    {
     "name": "stdout",
     "output_type": "stream",
     "text": [
      "The autoreload extension is already loaded. To reload it, use:\n",
      "  %reload_ext autoreload\n"
     ]
    }
   ],
   "source": [
    "%load_ext autoreload\n",
    "%autoreload 2\n",
    "import os, sys\n",
    "import torch\n",
    "import numpy as np\n",
    "import pandas as pd\n",
    "import matplotlib.pyplot as plt\n",
    "from sklearn.preprocessing import MinMaxScaler\n",
    "from dataset import *\n",
    "from models import *\n",
    "from utils import *\n",
    "\n",
    "import torch.nn as nn\n",
    "import torch.nn.functional as F\n",
    "import torch.optim as optim"
   ]
  },
  {
   "cell_type": "code",
   "execution_count": 192,
   "metadata": {},
   "outputs": [],
   "source": [
    "# Load and preprocess data:\n",
    "path = 'stocks/individual_stocks_5yr/'\n",
    "stocks = os.listdir(path)\n",
    "# Load file, pick only open, high, low, close, and convert to numpy array:\n",
    "ts = pd.read_csv(path+stocks[100]).select_dtypes(['float']).values\n",
    "# Normalize data to range [-1, 1]:\n",
    "scaler = MinMaxScaler(feature_range=(-1, 1))\n",
    "ts_norm = scaler.fit_transform(ts)"
   ]
  },
  {
   "cell_type": "code",
   "execution_count": 193,
   "metadata": {},
   "outputs": [],
   "source": [
    "# Setup device:\n",
    "device = torch.device('cuda') if torch.cuda.is_available() else torch.cpu()"
   ]
  },
  {
   "cell_type": "code",
   "execution_count": 194,
   "metadata": {},
   "outputs": [],
   "source": [
    "# Get train loader and test loader:\n",
    "test_size = 0.2\n",
    "source_len = 90\n",
    "target_len = 10\n",
    "batch_size = 32\n",
    "trainset, testset, trainloader, testloader = get_datasets_loaders(ts_norm, ts_norm, test_size, source_len, target_len, batch_size)"
   ]
  },
  {
   "cell_type": "code",
   "execution_count": 217,
   "metadata": {},
   "outputs": [],
   "source": [
    "# Hyper-parameters:\n",
    "source_size = 4\n",
    "target_size = 4\n",
    "hidden_size = 256\n",
    "num_layers = 2\n",
    "dropout = 0.2\n",
    "bidirect = True\n",
    "teacher_forcing_ratio = 0.5\n",
    "\n",
    "epochs = 30\n",
    "lr = 1e-3\n",
    "\n",
    "total_steps = np.ceil(len(trainset) / batch_size)\n",
    "print_every = 5"
   ]
  },
  {
   "cell_type": "code",
   "execution_count": 282,
   "metadata": {},
   "outputs": [
    {
     "name": "stdout",
     "output_type": "stream",
     "text": [
      "[1/30][0/29]\tTrain MSE: 0.2318\tTest MSE:0.088387\n",
      "[2/30][0/29]\tTrain MSE: 0.0105\tTest MSE:0.0009450\n",
      "[3/30][0/29]\tTrain MSE: 0.0173\tTest MSE:0.0011995\n",
      "[4/30][0/29]\tTrain MSE: 0.0123\tTest MSE:0.0007839\n",
      "[5/30][0/29]\tTrain MSE: 0.0095\tTest MSE:0.0008880\n",
      "[6/30][0/29]\tTrain MSE: 0.0054\tTest MSE:0.0008018\n",
      "[7/30][0/29]\tTrain MSE: 0.0122\tTest MSE:0.0007705\n",
      "[8/30][0/29]\tTrain MSE: 0.0092\tTest MSE:0.0007214\n",
      "[9/30][0/29]\tTrain MSE: 0.0206\tTest MSE:0.0008764\n",
      "[10/30][0/29]\tTrain MSE: 0.0030\tTest MSE:0.000965\n",
      "[11/30][0/29]\tTrain MSE: 0.0059\tTest MSE:0.0009792\n",
      "[12/30][0/29]\tTrain MSE: 0.0050\tTest MSE:0.0006909\n",
      "[13/30][0/29]\tTrain MSE: 0.0118\tTest MSE:0.0008567\n",
      "[14/30][0/29]\tTrain MSE: 0.0033\tTest MSE:0.0021308\n",
      "[15/30][0/29]\tTrain MSE: 0.0054\tTest MSE:0.0008122\n",
      "[16/30][0/29]\tTrain MSE: 0.0047\tTest MSE:0.0011070\n",
      "[17/30][0/29]\tTrain MSE: 0.0058\tTest MSE:0.0007059\n",
      "[18/30][0/29]\tTrain MSE: 0.0049\tTest MSE:0.0006728\n",
      "[19/30][0/29]\tTrain MSE: 0.0056\tTest MSE:0.0006210\n",
      "[20/30][0/29]\tTrain MSE: 0.0035\tTest MSE:0.0005911\n",
      "[21/30][0/29]\tTrain MSE: 0.0116\tTest MSE:0.0005737\n",
      "[22/30][0/29]\tTrain MSE: 0.0038\tTest MSE:0.0006324\n",
      "[23/30][0/29]\tTrain MSE: 0.0049\tTest MSE:0.0008151\n",
      "[24/30][0/29]\tTrain MSE: 0.0038\tTest MSE:0.0006485\n",
      "[25/30][0/29]\tTrain MSE: 0.0022\tTest MSE:0.0009870\n",
      "[26/30][0/29]\tTrain MSE: 0.0072\tTest MSE:0.0006302\n",
      "[27/30][0/29]\tTrain MSE: 0.0061\tTest MSE:0.0005704\n",
      "[28/30][0/29]\tTrain MSE: 0.0054\tTest MSE:0.0006038\n",
      "[29/30][0/29]\tTrain MSE: 0.0026\tTest MSE:0.0005676\n",
      "[30/30][0/29]\tTrain MSE: 0.0090\tTest MSE:0.0015945\n",
      "[30/30][28/29]\tTrain MSE: 0.0040\tTest MSE:0.000693"
     ]
    }
   ],
   "source": [
    "# Initialize model:\n",
    "encoder = Encoder(source_size, hidden_size, num_layers, dropout, bidirect)\n",
    "decoder = Decoder(target_size, hidden_size, num_layers, dropout)\n",
    "encoder.to(device)\n",
    "decoder.to(device)\n",
    "\n",
    "optimizer = optim.Adam(list(encoder.parameters()) + list(decoder.parameters()), lr=lr)\n",
    "\n",
    "# Training loop:\n",
    "for epoch in range(epochs):\n",
    "    for i, (src, tgt) in enumerate(trainloader):\n",
    "        encoder.train(); decoder.train()\n",
    "        optimizer.zero_grad()\n",
    "        src, tgt = src.to(device), tgt.to(device)\n",
    "        _, hidden = encoder(src)\n",
    "        outputs, _ = decoder(hidden, len(tgt[0]), tgt, torch.rand(1) >= teacher_forcing_ratio)\n",
    "        loss = F.mse_loss(outputs, tgt)\n",
    "        loss.backward()\n",
    "        optimizer.step()\n",
    "        \n",
    "        # Print out training progress (on same line):\n",
    "        stats = '[%d/%d][%d/%d]\\tTrain MSE: %.4f\\tTest MSE:%f' \\\n",
    "                % (epoch+1, epochs, i, total_steps, loss.item(), test_fn(encoder, decoder, testloader, device))\n",
    "        print('\\r' + stats, end=\"\")\n",
    "        sys.stdout.flush()\n",
    "\n",
    "        # Print out training progress (on different line):\n",
    "        if (i % total_steps == 0):\n",
    "            print('\\r' + stats)"
   ]
  },
  {
   "cell_type": "markdown",
   "metadata": {},
   "source": [
    "#####################################################"
   ]
  },
  {
   "cell_type": "code",
   "execution_count": 15,
   "metadata": {},
   "outputs": [
    {
     "name": "stdout",
     "output_type": "stream",
     "text": [
      "The autoreload extension is already loaded. To reload it, use:\n",
      "  %reload_ext autoreload\n"
     ]
    }
   ],
   "source": [
    "%load_ext autoreload\n",
    "%autoreload 2\n",
    "import os, sys\n",
    "import torch\n",
    "import numpy as np\n",
    "import pandas as pd\n",
    "import matplotlib.pyplot as plt\n",
    "from dataset import *\n",
    "from models import *\n",
    "\n",
    "from sklearn.preprocessing import MinMaxScaler\n",
    "import mxnet as mx\n",
    "from mxnet import nd, init, gluon, context\n",
    "from mxnet.gluon.data import Dataset, ArrayDataset, DataLoader\n",
    "from multiprocessing import cpu_count"
   ]
  },
  {
   "cell_type": "code",
   "execution_count": 11,
   "metadata": {},
   "outputs": [],
   "source": [
    "# Load and preprocess data:\n",
    "path = 'stocks/individual_stocks_5yr/'\n",
    "stocks = os.listdir(path)\n",
    "# Load file, pick only open, high, low, close, and convert to numpy array:\n",
    "ts = pd.read_csv(path+stocks[100]).select_dtypes(['float']).values\n",
    "# Normalize data to range [-1, 1]:\n",
    "scaler = MinMaxScaler(feature_range=(-1, 1))\n",
    "ts_norm = scaler.fit_transform(ts)"
   ]
  },
  {
   "cell_type": "code",
   "execution_count": 12,
   "metadata": {},
   "outputs": [],
   "source": [
    "# Get train loader and test loader:\n",
    "test_size = 0.2\n",
    "source_len = 90\n",
    "target_len = 1\n",
    "batch_size = 8\n",
    "trainset, testset, trainloader, testloader = get_datasets_loaders(ts_norm, test_size, source_len, target_len, batch_size)"
   ]
  },
  {
   "cell_type": "code",
   "execution_count": 13,
   "metadata": {},
   "outputs": [],
   "source": [
    "# Hyper-parameters:\n",
    "batch_size = 32\n",
    "output_size = 4\n",
    "hidden_size = 256\n",
    "num_layers = 1\n",
    "dropout = 0\n",
    "batch_first = True\n",
    "\n",
    "epochs = 30\n",
    "lr = 1e-3\n",
    "\n",
    "total_steps = np.ceil(len(trainset) / batch_size)\n",
    "print_every = 5"
   ]
  },
  {
   "cell_type": "code",
   "execution_count": 14,
   "metadata": {},
   "outputs": [],
   "source": [
    "# Initialize model:\n",
    "model = ManyToOne(output_size, hidden_size, num_layers, dropout)\n",
    "model.initialize(init=init.Xavier())\n",
    "# Choose a loss function:\n",
    "loss = gluon.loss.L2Loss()\n",
    "# Choose a trainer:\n",
    "trainer = gluon.Trainer(model.collect_params(), 'adam', {'learning_rate': 1e-2})"
   ]
  },
  {
   "cell_type": "code",
   "execution_count": 19,
   "metadata": {},
   "outputs": [],
   "source": [
    "devices = [context.gpu(i) for i in range(context.num_gpus())]"
   ]
  },
  {
   "cell_type": "code",
   "execution_count": 275,
   "metadata": {},
   "outputs": [
    {
     "ename": "AttributeError",
     "evalue": "'Tensor' object has no attribute 'as_in_context'",
     "output_type": "error",
     "traceback": [
      "\u001b[0;31m---------------------------------------------------------------------------\u001b[0m",
      "\u001b[0;31mAttributeError\u001b[0m                            Traceback (most recent call last)",
      "\u001b[0;32m<ipython-input-275-a694bfd64b00>\u001b[0m in \u001b[0;36m<module>\u001b[0;34m\u001b[0m\n\u001b[1;32m      2\u001b[0m \u001b[0;32mfor\u001b[0m \u001b[0mepoch\u001b[0m \u001b[0;32min\u001b[0m \u001b[0mrange\u001b[0m\u001b[0;34m(\u001b[0m\u001b[0mepochs\u001b[0m\u001b[0;34m)\u001b[0m\u001b[0;34m:\u001b[0m\u001b[0;34m\u001b[0m\u001b[0;34m\u001b[0m\u001b[0m\n\u001b[1;32m      3\u001b[0m     \u001b[0;32mfor\u001b[0m \u001b[0mi\u001b[0m\u001b[0;34m,\u001b[0m \u001b[0;34m(\u001b[0m\u001b[0msrc\u001b[0m\u001b[0;34m,\u001b[0m \u001b[0mtgt\u001b[0m\u001b[0;34m)\u001b[0m \u001b[0;32min\u001b[0m \u001b[0menumerate\u001b[0m\u001b[0;34m(\u001b[0m\u001b[0mtrainloader\u001b[0m\u001b[0;34m)\u001b[0m\u001b[0;34m:\u001b[0m\u001b[0;34m\u001b[0m\u001b[0;34m\u001b[0m\u001b[0m\n\u001b[0;32m----> 4\u001b[0;31m         \u001b[0msrc\u001b[0m\u001b[0;34m,\u001b[0m \u001b[0mtgt\u001b[0m \u001b[0;34m=\u001b[0m \u001b[0msrc\u001b[0m\u001b[0;34m.\u001b[0m\u001b[0mas_in_context\u001b[0m\u001b[0;34m(\u001b[0m\u001b[0mmx\u001b[0m\u001b[0;34m.\u001b[0m\u001b[0mgpu\u001b[0m\u001b[0;34m(\u001b[0m\u001b[0;36m0\u001b[0m\u001b[0;34m)\u001b[0m\u001b[0;34m)\u001b[0m\u001b[0;34m,\u001b[0m \u001b[0mtgt\u001b[0m\u001b[0;34m.\u001b[0m\u001b[0mas_in_context\u001b[0m\u001b[0;34m(\u001b[0m\u001b[0mmx\u001b[0m\u001b[0;34m.\u001b[0m\u001b[0mgpu\u001b[0m\u001b[0;34m(\u001b[0m\u001b[0;36m0\u001b[0m\u001b[0;34m)\u001b[0m\u001b[0;34m)\u001b[0m\u001b[0;34m\u001b[0m\u001b[0;34m\u001b[0m\u001b[0m\n\u001b[0m\u001b[1;32m      5\u001b[0m         \u001b[0;31m# Forward + backward:\u001b[0m\u001b[0;34m\u001b[0m\u001b[0;34m\u001b[0m\u001b[0;34m\u001b[0m\u001b[0m\n\u001b[1;32m      6\u001b[0m         \u001b[0;32mwith\u001b[0m \u001b[0mautograd\u001b[0m\u001b[0;34m.\u001b[0m\u001b[0mrecord\u001b[0m\u001b[0;34m(\u001b[0m\u001b[0;34m)\u001b[0m\u001b[0;34m:\u001b[0m\u001b[0;34m\u001b[0m\u001b[0;34m\u001b[0m\u001b[0m\n",
      "\u001b[0;31mAttributeError\u001b[0m: 'Tensor' object has no attribute 'as_in_context'"
     ]
    }
   ],
   "source": [
    "# Training loop:\n",
    "for epoch in range(epochs):\n",
    "    for i, (src, tgt) in enumerate(trainloader):\n",
    "        src, tgt = src.as_in_context(mx.gpu(0)), tgt.as_in_context(mx.gpu(0))\n",
    "        # Forward + backward:\n",
    "        with autograd.record():\n",
    "            src, tgt = ctx.to(device), tgt.to(device)\n",
    "        output = model(ctx)\n",
    "        loss = F.mse_loss(output, tgt.squeeze())\n",
    "        loss.backward()\n",
    "        optimizer.step()\n",
    "        \n",
    "        # Print out training progress (on same line):\n",
    "        stats = '[%d/%d][%d/%d]\\tLoss: %.4f' \\\n",
    "                % (epoch+1, epochs, i, total_steps, loss.item())\n",
    "        print('\\r' + stats, end=\"\")\n",
    "        sys.stdout.flush()\n",
    "\n",
    "        # Print out training progress (on different line):\n",
    "        if (i % total_steps == 0):\n",
    "            print('\\r' + stats)"
   ]
  }
 ],
 "metadata": {
  "kernelspec": {
   "display_name": "Python 3",
   "language": "python",
   "name": "python3"
  },
  "language_info": {
   "codemirror_mode": {
    "name": "ipython",
    "version": 3
   },
   "file_extension": ".py",
   "mimetype": "text/x-python",
   "name": "python",
   "nbconvert_exporter": "python",
   "pygments_lexer": "ipython3",
   "version": "3.8.2"
  }
 },
 "nbformat": 4,
 "nbformat_minor": 4
}
